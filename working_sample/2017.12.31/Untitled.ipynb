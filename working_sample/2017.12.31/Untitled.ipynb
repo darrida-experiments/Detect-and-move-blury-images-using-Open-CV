{
 "cells": [
  {
   "cell_type": "code",
   "execution_count": null,
   "metadata": {},
   "outputs": [
    {
     "name": "stdout",
     "output_type": "stream",
     "text": [
      "PARAMETERS => FOCUS_THRESHOLD: 20 | DIRECTORY: 'C:\\Users\\benha\\Documents\\GitHub\\Detect-and-Move-Blury-Images--using-Open-CV-\\working_sample\\2017.12.31' | EXT: .JPG. For options, use '--help'\n",
      "C:\\Users\\benha\\Documents\\GitHub\\Detect-and-Move-Blury-Images--using-Open-CV-\\working_sample\\2017.12.31\\C:\\Users\\benha\\Documents\\GitHub\\Detect-and-Move-Blury-Images--using-Open-CV-\\working_sample\\2017.12.31\n",
      "Processing file P1240546.JPG... C:\\Users\\benha\\Documents\\GitHub\\Detect-and-Move-Blury-Images--using-Open-CV-\\working_sample\\2017.12.31\\P1240546.JPG\n",
      "C:\\Users\\benha\\Documents\\GitHub\\Detect-and-Move-Blury-Images--using-Open-CV-\\working_sample\\2017.12.31\\C:\\Users\\benha\\Documents\\GitHub\\Detect-and-Move-Blury-Images--using-Open-CV-\\working_sample\\2017.12.31\\P1240546.JPG\n",
      "<ImagingCore object at 0x00000292A0A2A4D0>\n"
     ]
    },
    {
     "name": "stdin",
     "output_type": "stream",
     "text": [
      "y for next, n for stop y\n"
     ]
    },
    {
     "name": "stdout",
     "output_type": "stream",
     "text": [
      "Processing file P1240546.JPG... C:\\Users\\benha\\Documents\\GitHub\\Detect-and-Move-Blury-Images--using-Open-CV-\\working_sample\\2017.12.31\\P1240546.JPG\n",
      "C:\\Users\\benha\\Documents\\GitHub\\Detect-and-Move-Blury-Images--using-Open-CV-\\working_sample\\2017.12.31\\C:\\Users\\benha\\Documents\\GitHub\\Detect-and-Move-Blury-Images--using-Open-CV-\\working_sample\\2017.12.31\\P1240546.JPG\n",
      "<ImagingCore object at 0x00000292A0A6EEF0>\n"
     ]
    }
   ],
   "source": [
    "from PIL import Image\n",
    "from PIL import ImageFilter\n",
    "from IPython.display import Image as JubImage\n",
    "import numpy\n",
    "\n",
    "# NOTE: last try before it somehow worked was pip3 install opencv-python\n",
    "#\n",
    "# Sorts pictures in current directory into two subdirs, blurred and ok\n",
    "# Found original here: https://photo.stackexchange.com/questions/20432/is-there-photo-analysis-software-which-will-pre-sort-images-by-identifying-poten\n",
    "# Modified for my own purposes.\n",
    "#\n",
    "\n",
    "# stock python libs\n",
    "import os, shutil, re, sys\n",
    "# additional libs\n",
    "#import cv2\n",
    "from pathlib import Path\n",
    "\n",
    "# DEFAULTS\n",
    "FOCUS_THRESHOLD = 20\n",
    "DIRECTORY = Path.cwd()\n",
    "EXT = '.JPG'\n",
    "\n",
    "HELP_MESSAGE = f\"\"\"\n",
    "This tool assists with blur dectection on images. The follow parameters are available:\n",
    "\n",
    "FOCUS_THRESHOLD => --focus <int>   [0-100]\n",
    "      DIRECTORY => --dir <path>    [i.e., ./dir1/dir2/dir3 or C:/dir1/dir2/dir3]\n",
    "            EXT => --ext <ext>     [.jpg, jpeg, etc]\n",
    "              \n",
    "Defaults for each are the following => FOCUS_THRESHOLD: {FOCUS_THRESHOLD} | DIRECTORY: {DIRECTORY} | EXT: {EXT}\n",
    "\"\"\"\n",
    "arguments = len(sys.argv)\n",
    "position = 1\n",
    "while position < arguments:\n",
    "   if sys.argv[position] == '--focus':\n",
    "      FOCUS_THRESHOLD = sys.argv[position + 1]\n",
    "      if isinstance(int(FOCUS_THRESHOLD), int):\n",
    "         FOCUS_THRESHOLD = int(FOCUS_THRESHOLD)\n",
    "      else:\n",
    "         print('ERROR: --focus parameter did not meet int requirements. See \"--help\" for options.')\n",
    "         exit()\n",
    "   elif sys.argv[position] == '--ext':\n",
    "      EXT = sys.argv[position + 1]\n",
    "   elif sys.argv[position] == '--dir':\n",
    "      DIRECTORY = Path(sys.argv[position + 1])\n",
    "   elif sys.argv[position] == '--help':\n",
    "      print(HELP_MESSAGE)\n",
    "      exit()\n",
    "   elif sys.argv[position] == '--h':\n",
    "      print(HELP_MESSAGE)\n",
    "      exit()\n",
    "   position = position + 1\n",
    "   #elif sys.argv[position] and sys.argv[position] != re.match('^--', sys.argv[position]):\n",
    "   #   print('\\nERROR: INVALID ARGUMENT. See the --help information below.\\n' + HELP_MESSAGE)\n",
    "   #   exit()\n",
    "   position = position + 1\n",
    "\n",
    "print(f\"PARAMETERS => FOCUS_THRESHOLD: {FOCUS_THRESHOLD} | DIRECTORY: '{DIRECTORY}' | EXT: {EXT}. For options, use '--help'\")\n",
    "\n",
    "BLURRED_DIR = 'blurred'\n",
    "OK_DIR = 'ok'\n",
    "\n",
    "blur_count = 0\n",
    "\n",
    "print(str(Path.cwd()) + '\\\\' + str(DIRECTORY))\n",
    "files = [f for f in os.listdir(DIRECTORY) if f.endswith(EXT)]\n",
    "\n",
    "try:\n",
    "   os.makedirs(BLURRED_DIR)\n",
    "   os.makedirs(OK_DIR)\n",
    "except:\n",
    "   pass\n",
    "\n",
    "next = 'y'\n",
    "for infile in files:\n",
    "    while next == 'y':\n",
    "        print(f'Processing file {infile}... {DIRECTORY}\\{infile}')\n",
    "        print(str(Path.cwd()) + '\\\\' + str(DIRECTORY) + '\\\\' + infile)\n",
    "        image = Image.open(infile)\n",
    "        #print(image.getdata())\n",
    "        imageWithEdges = image.filter(ImageFilter.FIND_EDGES)\n",
    "        #imageWithEdges.show()\n",
    "        print(list(imageWithEdges.getdata()))\n",
    "        next = input('y for next, n for stop')"
   ]
  }
 ],
 "metadata": {
  "kernelspec": {
   "display_name": "Python 3",
   "language": "python",
   "name": "python3"
  },
  "language_info": {
   "codemirror_mode": {
    "name": "ipython",
    "version": 3
   },
   "file_extension": ".py",
   "mimetype": "text/x-python",
   "name": "python",
   "nbconvert_exporter": "python",
   "pygments_lexer": "ipython3",
   "version": "3.7.4"
  }
 },
 "nbformat": 4,
 "nbformat_minor": 4
}
